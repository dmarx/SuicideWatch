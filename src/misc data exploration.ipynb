{
 "cells": [
  {
   "cell_type": "code",
   "execution_count": 1,
   "metadata": {
    "collapsed": true
   },
   "outputs": [],
   "source": [
    "from scraper.datamodel import DbApi"
   ]
  },
  {
   "cell_type": "code",
   "execution_count": 3,
   "metadata": {},
   "outputs": [],
   "source": [
    "db = DbApi('../data/backup2.db')"
   ]
  },
  {
   "cell_type": "code",
   "execution_count": 4,
   "metadata": {},
   "outputs": [
    {
     "data": {
      "text/plain": [
       "[(1459660,)]"
      ]
     },
     "execution_count": 4,
     "metadata": {},
     "output_type": "execute_result"
    }
   ],
   "source": [
    "db.conn.execute('select count(*) from comments').fetchall()"
   ]
  },
  {
   "cell_type": "code",
   "execution_count": 6,
   "metadata": {},
   "outputs": [
    {
     "data": {
      "text/plain": [
       "[(222211,)]"
      ]
     },
     "execution_count": 6,
     "metadata": {},
     "output_type": "execute_result"
    }
   ],
   "source": [
    "db.conn.execute('select count(*) from submissions').fetchall()"
   ]
  },
  {
   "cell_type": "code",
   "execution_count": 7,
   "metadata": {},
   "outputs": [
    {
     "data": {
      "text/plain": [
       "[(5816712,)]"
      ]
     },
     "execution_count": 7,
     "metadata": {},
     "output_type": "execute_result"
    }
   ],
   "source": [
    "db.conn.execute('select count(*) from sentences').fetchall()"
   ]
  },
  {
   "cell_type": "code",
   "execution_count": 15,
   "metadata": {},
   "outputs": [
    {
     "data": {
      "text/plain": [
       "[(0, 2908670), (1, 2908042)]"
      ]
     },
     "execution_count": 15,
     "metadata": {},
     "output_type": "execute_result"
    }
   ],
   "source": [
    "db.conn.execute('select src_is_subm, count(*) from sentences group by 1').fetchall()"
   ]
  },
  {
   "cell_type": "code",
   "execution_count": 22,
   "metadata": {},
   "outputs": [
    {
     "data": {
      "text/plain": [
       "[(\"i don't know what to do.\", 3465),\n",
       " (\"i don't know.\", 1931),\n",
       " ('i want to die.', 1780),\n",
       " ('i hate myself.', 1146),\n",
       " ('i need help.', 1099),\n",
       " (\"i don't know what to do anymore.\", 1090),\n",
       " ('i just want to die.', 1088),\n",
       " ('what do i do?', 977),\n",
       " ('please help me.', 872),\n",
       " ('what should i do?', 697),\n",
       " ('thanks for reading.', 678),\n",
       " ('i have no friends.', 675),\n",
       " (\"i can't do this anymore.\", 670),\n",
       " (\"i'm so tired.\", 607),\n",
       " (\"what's the point?\", 546),\n",
       " (\"i just don't know what to do.\", 524),\n",
       " ('i need help', 488),\n",
       " (\"i can't take it anymore.\", 428),\n",
       " ('i give up.', 428),\n",
       " ('i want to kill myself.', 424),\n",
       " ('what can i do?', 421),\n",
       " (\"i don't know what to do\", 405),\n",
       " ('i hate my life.', 399),\n",
       " ('i hate it.', 396),\n",
       " (\"i don't want to die.\", 395),\n",
       " ('i want to die', 363),\n",
       " ('i have nothing.', 340),\n",
       " (\"i just don't know what to do anymore.\", 332),\n",
       " ('please help me', 331),\n",
       " (\"i can't do it anymore.\", 328),\n",
       " (\"i don't know why.\", 316),\n",
       " (\"i don't want to live anymore.\", 315),\n",
       " ('i feel so alone.', 308),\n",
       " ('i love you.', 292),\n",
       " (\"but i can't.\", 291),\n",
       " ('i have no one.', 290),\n",
       " ('thank you for reading.', 285),\n",
       " ('i just want it to end.', 283),\n",
       " (\"i just can't.\", 278),\n",
       " ('i dont know what to do.', 272),\n",
       " (\"i can't do it.\", 259),\n",
       " ('thanks for listening.', 242),\n",
       " ('i don’t know what to do.', 241),\n",
       " (\"i'm just done.\", 235),\n",
       " ('i need someone to talk to.', 229),\n",
       " (\"i'm just so tired.\", 221),\n",
       " ('i want out.', 217),\n",
       " (\"i don't know what else to do.\", 213),\n",
       " (\"i'm just tired.\", 212),\n",
       " (\"i don't know anymore.\", 211)]"
      ]
     },
     "execution_count": 22,
     "metadata": {},
     "output_type": "execute_result"
    }
   ],
   "source": [
    "db.conn.execute('select lower(text), count(*) from sentences where src_is_subm=1 group by 1 order by 2 desc limit 50').fetchall()"
   ]
  },
  {
   "cell_type": "code",
   "execution_count": 23,
   "metadata": {},
   "outputs": [
    {
     "data": {
      "text/plain": [
       "[('thank you so much!', 355),\n",
       " ('username checks out', 210),\n",
       " ('i love it.', 205),\n",
       " (\"i don't know.\", 178),\n",
       " ('what do you mean?', 174),\n",
       " ('i like it.', 165),\n",
       " ('thank you :)', 163),\n",
       " ('thanks so much!', 142),\n",
       " ('happy cake day!', 132),\n",
       " ('i love it!', 125),\n",
       " ('not at all.', 121),\n",
       " ('thank you so much.', 121),\n",
       " ('thanks for sharing.', 116),\n",
       " ('thank you very much!', 113),\n",
       " ('best of luck!', 112),\n",
       " ('what are you talking about?', 111),\n",
       " ('thanks for the info.', 106),\n",
       " (\"i don't get it.\", 104),\n",
       " (\"i don't think so.\", 103),\n",
       " ('thanks for the reply.', 103),\n",
       " ('thanks a lot!', 98),\n",
       " ('thanks for the info!', 98),\n",
       " ('i agree with you.', 95),\n",
       " ('thanks for sharing!', 93),\n",
       " ('username checks out.', 92),\n",
       " ('that makes sense.', 90),\n",
       " ('( ͡° ͜ʖ ͡°)', 89),\n",
       " ('hope this helps!', 89),\n",
       " ('good to know.', 84),\n",
       " ('thank you for your submission!', 84),\n",
       " ('hope this helps.', 82),\n",
       " ('keep it up!', 81),\n",
       " ('thanks for the advice.', 79),\n",
       " ('enter pls bot', 76),\n",
       " ('i get it.', 75),\n",
       " ('yes it is.', 73),\n",
       " ('what the fuck', 72),\n",
       " ('thanks for the help!', 71),\n",
       " ('happy cake day', 70),\n",
       " ('thanks for the advice!', 70),\n",
       " ('i feel you.', 69),\n",
       " ('of course not.', 68),\n",
       " ('this is awesome!', 68),\n",
       " ('this is so sad.', 68),\n",
       " ('good for you.', 66),\n",
       " ('thanks for the reply!', 66),\n",
       " ('oh my god.', 65),\n",
       " ('this is true.', 65),\n",
       " ('what the fuck?', 65),\n",
       " ('i second this.', 64)]"
      ]
     },
     "execution_count": 23,
     "metadata": {},
     "output_type": "execute_result"
    }
   ],
   "source": [
    "qry_nobots = \"\"\"\n",
    "with bots as (\n",
    "    select author, count(*)\n",
    "    from comments \n",
    "    group by 1\n",
    "    having count(*) >=20\n",
    "        union all\n",
    "    select 'SeriouslyLucifer', -1\n",
    "        union all\n",
    "    select 'peadditer', -1\n",
    ")\n",
    "select lower(text), count(*) \n",
    "from sentences s\n",
    "join comments c\n",
    "  on s.src_id = c.id\n",
    "  and src_is_subm=0 \n",
    "left join bots b\n",
    "  on c.author = b.author\n",
    "where b.author is null\n",
    "and c.author <> '[deleted]'\n",
    "group by 1 order by 2 desc limit 50\n",
    "\"\"\"\n",
    "db.conn.execute(qry_nobots).fetchall()"
   ]
  },
  {
   "cell_type": "code",
   "execution_count": 17,
   "metadata": {},
   "outputs": [
    {
     "data": {
      "text/plain": [
       "[('SeriouslyLucifer',\n",
       "  'FortniteCompetitive',\n",
       "  \"**Unfortunately, we've had to remove your post.\",\n",
       "  190,\n",
       "  \"**Unfortunately, we've had to remove your post.** \\n\\n___\\n\\n###Posts Should Be High Quality And Encourage Discussion\\n\\nWe want /r/FortniteCompetitive to be the best source of discussion for the game online - and to do that we have to ensure that quality content isn’t drowned out by low effort or low-quality submissions.  Content must be related to Fortnite. If your post contains a suggestion for the game, it must contain Fortnite elements.\\n\\n**High Quality Guidelines:**\\n\\n- Posts about similar games are not allowed.\\n\\n- Every post should be a space for meaningful discussion. While this doesn't mean every post needs to be a discursive essay, posts that don't offer room for meaningful discussion will be removed.\\n\\n- Screenshots are removed at moderation discretion if they do not contain sufficient supporting text to encourage a discussion.\\n\\n- Videos/images taken with a phone are subject to removal.\\n\\n- Screenshots of social media posts (Twitter/Instagram/Snapchat) will be removed.\\n\\n**Post Title Rules:**\\n\\n- If your post's image or video is not related to Fortnite without the title, it will be removed. \\n\\n- Titles should not be posted using all caps or be ambiguous/clickbait.\\n\\n- When posting links from Twitter, post titles should be as accurate to the source as possible.\\n\\n\\n\\n___\\n\\n[**Here are our subreddit rules.**](https://www.reddit.com/r/FortniteCompetitive/wiki/rules) - If you have any queries about this, you can contact us via [Moderator Mail](https://www.reddit.com/message/compose?to=%2Fr%2FFortniteCompetitive).\")]"
      ]
     },
     "execution_count": 17,
     "metadata": {},
     "output_type": "execute_result"
    }
   ],
   "source": [
    "# These fucking guys.\n",
    "qry_lowfreq_bots = \"\"\"\n",
    "select author, subreddit, s.text, count(*), max(c.body)\n",
    "from comments c\n",
    "join sentences s\n",
    "  on  s.src_id = c.id\n",
    "  and s.src_is_subm = 0\n",
    "where s.text = ? or s.text = ? \n",
    "order by 1, 3, 4 desc, 2\n",
    "\"\"\"\n",
    "bad_sents = ['___\\n\\n[**Here are our subreddit rules.', \"**Unfortunately, we've had to remove your post.\"]\n",
    "\n",
    "db.conn.execute(qry_lowfreq_bots, bad_sents).fetchall()"
   ]
  },
  {
   "cell_type": "code",
   "execution_count": 19,
   "metadata": {},
   "outputs": [
    {
     "data": {
      "text/plain": [
       "[('peadditer',\n",
       "  'CoDCompetitive',\n",
       "  'Thank you for your submission!',\n",
       "  87,\n",
       "  \"Thank you for your submission! Unfortunately, your submission has been removed for the following reason(s):\\n\\nPlease use the 'Daily Discussion Thread' stickied at the top of the subreddit for your question/topic. Thanks!\\n\\n\\n\\nIf you have any questions regarding the ruleset of /r/CoDCompetitive, please refer to the [FAQ](/r/CoDCompetitive/wiki/index) or [message the moderators](/message/compose?to=%2Fr%2FCoDCompetitive). Thank you!\")]"
      ]
     },
     "execution_count": 19,
     "metadata": {},
     "output_type": "execute_result"
    }
   ],
   "source": [
    "# These fucking guys.\n",
    "qry_lowfreq_bots = \"\"\"\n",
    "select author, subreddit, s.text, count(*), max(c.body)\n",
    "from comments c\n",
    "join sentences s\n",
    "  on  s.src_id = c.id\n",
    "  and s.src_is_subm = 0\n",
    "where s.text = 'Thank you for your submission!'\n",
    "order by 1, 3, 4 desc, 2\n",
    "\"\"\"\n",
    "\n",
    "db.conn.execute(qry_lowfreq_bots).fetchall()"
   ]
  }
 ],
 "metadata": {
  "kernelspec": {
   "display_name": "Python 3",
   "language": "python",
   "name": "python3"
  },
  "language_info": {
   "codemirror_mode": {
    "name": "ipython",
    "version": 3
   },
   "file_extension": ".py",
   "mimetype": "text/x-python",
   "name": "python",
   "nbconvert_exporter": "python",
   "pygments_lexer": "ipython3",
   "version": "3.6.3"
  }
 },
 "nbformat": 4,
 "nbformat_minor": 2
}
