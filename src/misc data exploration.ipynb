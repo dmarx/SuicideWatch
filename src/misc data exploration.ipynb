{
 "cells": [
  {
   "cell_type": "code",
   "execution_count": 1,
   "metadata": {
    "collapsed": true
   },
   "outputs": [],
   "source": [
    "from scraper.datamodel import DbApi"
   ]
  },
  {
   "cell_type": "code",
   "execution_count": 3,
   "metadata": {},
   "outputs": [],
   "source": [
    "db = DbApi('../data/backup2.db')"
   ]
  },
  {
   "cell_type": "code",
   "execution_count": 4,
   "metadata": {},
   "outputs": [
    {
     "data": {
      "text/plain": [
       "[(1459660,)]"
      ]
     },
     "execution_count": 4,
     "metadata": {},
     "output_type": "execute_result"
    }
   ],
   "source": [
    "db.conn.execute('select count(*) from comments').fetchall()"
   ]
  },
  {
   "cell_type": "code",
   "execution_count": 6,
   "metadata": {},
   "outputs": [
    {
     "data": {
      "text/plain": [
       "[(222211,)]"
      ]
     },
     "execution_count": 6,
     "metadata": {},
     "output_type": "execute_result"
    }
   ],
   "source": [
    "db.conn.execute('select count(*) from submissions').fetchall()"
   ]
  },
  {
   "cell_type": "code",
   "execution_count": 7,
   "metadata": {},
   "outputs": [
    {
     "data": {
      "text/plain": [
       "[(5816712,)]"
      ]
     },
     "execution_count": 7,
     "metadata": {},
     "output_type": "execute_result"
    }
   ],
   "source": [
    "db.conn.execute('select count(*) from sentences').fetchall()"
   ]
  },
  {
   "cell_type": "code",
   "execution_count": 15,
   "metadata": {},
   "outputs": [
    {
     "data": {
      "text/plain": [
       "[(0, 2908670), (1, 2908042)]"
      ]
     },
     "execution_count": 15,
     "metadata": {},
     "output_type": "execute_result"
    }
   ],
   "source": [
    "db.conn.execute('select src_is_subm, count(*) from sentences group by 1').fetchall()"
   ]
  },
  {
   "cell_type": "code",
   "execution_count": 14,
   "metadata": {},
   "outputs": [
    {
     "data": {
      "text/plain": [
       "[(\"I don't know what to do.\", 3356),\n",
       " (\"I don't know.\", 1857),\n",
       " ('I want to die.', 1671),\n",
       " ('I hate myself.', 1086),\n",
       " (\"I don't know what to do anymore.\", 1061),\n",
       " ('I need help.', 1035),\n",
       " ('I just want to die.', 1009),\n",
       " ('What do I do?', 862),\n",
       " ('Please help me.', 794),\n",
       " ('I have no friends.', 646),\n",
       " (\"I can't do this anymore.\", 644),\n",
       " ('Thanks for reading.', 638),\n",
       " ('What should I do?', 616),\n",
       " (\"I'm so tired.\", 567),\n",
       " (\"I just don't know what to do.\", 513),\n",
       " (\"What's the point?\", 505),\n",
       " ('I need help', 421),\n",
       " (\"I can't take it anymore.\", 415),\n",
       " ('I give up.', 391),\n",
       " ('I want to kill myself.', 389),\n",
       " ('What can I do?', 385),\n",
       " (\"I don't want to die.\", 382),\n",
       " (\"I don't know what to do\", 374),\n",
       " ('I hate my life.', 370),\n",
       " ('I hate it.', 366),\n",
       " (\"I just don't know what to do anymore.\", 320),\n",
       " (\"I can't do it anymore.\", 315),\n",
       " ('I have nothing.', 314),\n",
       " (\"I don't know why.\", 304),\n",
       " (\"I don't want to live anymore.\", 304),\n",
       " ('I want to die', 304),\n",
       " ('I feel so alone.', 289),\n",
       " ('Thank you for reading.', 274),\n",
       " (\"But I can't.\", 272),\n",
       " ('I love you.', 272),\n",
       " ('I have no one.', 270),\n",
       " (\"I just can't.\", 266),\n",
       " ('I just want it to end.', 265),\n",
       " (\"I can't do it.\", 247),\n",
       " ('Please help me', 243),\n",
       " ('I don’t know what to do.', 234),\n",
       " ('Thanks for listening.', 231),\n",
       " (\"I'm just done.\", 229),\n",
       " (\"I'm just so tired.\", 216),\n",
       " ('I need someone to talk to.', 213),\n",
       " (\"I'm just tired.\", 207),\n",
       " (\"I don't know what else to do.\", 206),\n",
       " (\"I don't know anymore.\", 203),\n",
       " ('I want out.', 203),\n",
       " (\"I can't do this.\", 198)]"
      ]
     },
     "execution_count": 14,
     "metadata": {},
     "output_type": "execute_result"
    }
   ],
   "source": [
    "db.conn.execute('select text, count(*) from sentences where src_is_subm=1 group by 1 order by 2 desc limit 50').fetchall()"
   ]
  },
  {
   "cell_type": "code",
   "execution_count": 21,
   "metadata": {},
   "outputs": [
    {
     "data": {
      "text/plain": [
       "[('Thank you so much!', 334),\n",
       " ('I love it.', 198),\n",
       " ('Username checks out', 177),\n",
       " (\"I don't know.\", 174),\n",
       " ('I like it.', 163),\n",
       " ('What do you mean?', 160),\n",
       " ('Thank you :)', 152),\n",
       " ('Thanks so much!', 133),\n",
       " ('I love it!', 121),\n",
       " ('Not at all.', 116),\n",
       " ('Thanks for sharing.', 112),\n",
       " ('Best of luck!', 111),\n",
       " ('Thank you so much.', 111),\n",
       " ('Thank you very much!', 107),\n",
       " ('What are you talking about?', 106),\n",
       " (\"I don't think so.\", 102),\n",
       " ('Thanks for the reply.', 102),\n",
       " (\"I don't get it.\", 100),\n",
       " ('Thanks for the info.', 100),\n",
       " ('Thanks for the info!', 95),\n",
       " ('I agree with you.', 94),\n",
       " ('Thanks for sharing!', 92),\n",
       " ('Happy cake day!', 91),\n",
       " ('Thanks a lot!', 91),\n",
       " ('( ͡° ͜ʖ ͡°)', 89),\n",
       " ('That makes sense.', 88),\n",
       " ('Hope this helps!', 87),\n",
       " ('Username checks out.', 87),\n",
       " ('Thank you for your submission!', 84),\n",
       " ('Good to know.', 80),\n",
       " ('Hope this helps.', 80),\n",
       " ('Thanks for the advice.', 76),\n",
       " ('Keep it up!', 75),\n",
       " ('I get it.', 73),\n",
       " ('I feel you.', 69),\n",
       " ('Yes it is.', 69),\n",
       " ('Thanks for the help!', 67),\n",
       " ('This is so sad.', 67),\n",
       " ('Of course not.', 66),\n",
       " ('This is awesome!', 65),\n",
       " ('Thanks for the advice!', 64),\n",
       " ('Thanks for the reply!', 64),\n",
       " ('I second this.', 62),\n",
       " ('This is true.', 62),\n",
       " ('Good for you!', 61),\n",
       " ('Good for you.', 61),\n",
       " ('Not even close.', 60),\n",
       " ('Thanks for that.', 59),\n",
       " ('Best of luck.', 58),\n",
       " ('!remindme 1 year', 57)]"
      ]
     },
     "execution_count": 21,
     "metadata": {},
     "output_type": "execute_result"
    }
   ],
   "source": [
    "qry_nobots = \"\"\"\n",
    "with bots as (\n",
    "select author, count(*)\n",
    "from comments \n",
    "group by 1\n",
    "having count(*) >=20\n",
    "union all\n",
    "select 'SeriouslyLucifer', -1\n",
    "union all\n",
    "select 'peadditer', -1\n",
    ")\n",
    "select text, count(*) \n",
    "from sentences s\n",
    "join comments c\n",
    "  on s.src_id = c.id\n",
    "  and src_is_subm=0 \n",
    "left join bots b\n",
    "  on c.author = b.author\n",
    "where b.author is null\n",
    "and c.author <> '[deleted]'\n",
    "group by 1 order by 2 desc limit 50\n",
    "\"\"\"\n",
    "db.conn.execute(qry_nobots).fetchall()"
   ]
  },
  {
   "cell_type": "code",
   "execution_count": 17,
   "metadata": {},
   "outputs": [
    {
     "data": {
      "text/plain": [
       "[('SeriouslyLucifer',\n",
       "  'FortniteCompetitive',\n",
       "  \"**Unfortunately, we've had to remove your post.\",\n",
       "  190,\n",
       "  \"**Unfortunately, we've had to remove your post.** \\n\\n___\\n\\n###Posts Should Be High Quality And Encourage Discussion\\n\\nWe want /r/FortniteCompetitive to be the best source of discussion for the game online - and to do that we have to ensure that quality content isn’t drowned out by low effort or low-quality submissions.  Content must be related to Fortnite. If your post contains a suggestion for the game, it must contain Fortnite elements.\\n\\n**High Quality Guidelines:**\\n\\n- Posts about similar games are not allowed.\\n\\n- Every post should be a space for meaningful discussion. While this doesn't mean every post needs to be a discursive essay, posts that don't offer room for meaningful discussion will be removed.\\n\\n- Screenshots are removed at moderation discretion if they do not contain sufficient supporting text to encourage a discussion.\\n\\n- Videos/images taken with a phone are subject to removal.\\n\\n- Screenshots of social media posts (Twitter/Instagram/Snapchat) will be removed.\\n\\n**Post Title Rules:**\\n\\n- If your post's image or video is not related to Fortnite without the title, it will be removed. \\n\\n- Titles should not be posted using all caps or be ambiguous/clickbait.\\n\\n- When posting links from Twitter, post titles should be as accurate to the source as possible.\\n\\n\\n\\n___\\n\\n[**Here are our subreddit rules.**](https://www.reddit.com/r/FortniteCompetitive/wiki/rules) - If you have any queries about this, you can contact us via [Moderator Mail](https://www.reddit.com/message/compose?to=%2Fr%2FFortniteCompetitive).\")]"
      ]
     },
     "execution_count": 17,
     "metadata": {},
     "output_type": "execute_result"
    }
   ],
   "source": [
    "# These fucking guys.\n",
    "qry_lowfreq_bots = \"\"\"\n",
    "select author, subreddit, s.text, count(*), max(c.body)\n",
    "from comments c\n",
    "join sentences s\n",
    "  on  s.src_id = c.id\n",
    "  and s.src_is_subm = 0\n",
    "where s.text = ? or s.text = ? \n",
    "order by 1, 3, 4 desc, 2\n",
    "\"\"\"\n",
    "bad_sents = ['___\\n\\n[**Here are our subreddit rules.', \"**Unfortunately, we've had to remove your post.\"]\n",
    "\n",
    "db.conn.execute(qry_lowfreq_bots, bad_sents).fetchall()"
   ]
  },
  {
   "cell_type": "code",
   "execution_count": 19,
   "metadata": {},
   "outputs": [
    {
     "data": {
      "text/plain": [
       "[('peadditer',\n",
       "  'CoDCompetitive',\n",
       "  'Thank you for your submission!',\n",
       "  87,\n",
       "  \"Thank you for your submission! Unfortunately, your submission has been removed for the following reason(s):\\n\\nPlease use the 'Daily Discussion Thread' stickied at the top of the subreddit for your question/topic. Thanks!\\n\\n\\n\\nIf you have any questions regarding the ruleset of /r/CoDCompetitive, please refer to the [FAQ](/r/CoDCompetitive/wiki/index) or [message the moderators](/message/compose?to=%2Fr%2FCoDCompetitive). Thank you!\")]"
      ]
     },
     "execution_count": 19,
     "metadata": {},
     "output_type": "execute_result"
    }
   ],
   "source": [
    "# These fucking guys.\n",
    "qry_lowfreq_bots = \"\"\"\n",
    "select author, subreddit, s.text, count(*), max(c.body)\n",
    "from comments c\n",
    "join sentences s\n",
    "  on  s.src_id = c.id\n",
    "  and s.src_is_subm = 0\n",
    "where s.text = 'Thank you for your submission!'\n",
    "order by 1, 3, 4 desc, 2\n",
    "\"\"\"\n",
    "\n",
    "db.conn.execute(qry_lowfreq_bots).fetchall()"
   ]
  }
 ],
 "metadata": {
  "kernelspec": {
   "display_name": "Python 3",
   "language": "python",
   "name": "python3"
  },
  "language_info": {
   "codemirror_mode": {
    "name": "ipython",
    "version": 3
   },
   "file_extension": ".py",
   "mimetype": "text/x-python",
   "name": "python",
   "nbconvert_exporter": "python",
   "pygments_lexer": "ipython3",
   "version": "3.6.3"
  }
 },
 "nbformat": 4,
 "nbformat_minor": 2
}
