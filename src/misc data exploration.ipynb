{
 "cells": [
  {
   "cell_type": "code",
   "execution_count": 58,
   "metadata": {
    "collapsed": true
   },
   "outputs": [],
   "source": [
    "from scraper.datamodel import DbApi\n",
    "import pandas as pd\n",
    "from collections import Counter\n",
    "from contextlib import closing\n",
    "import time\n",
    "import numpy as np\n",
    "import copy"
   ]
  },
  {
   "cell_type": "code",
   "execution_count": 3,
   "metadata": {},
   "outputs": [],
   "source": [
    "db = DbApi('../data/backup2.db')"
   ]
  },
  {
   "cell_type": "code",
   "execution_count": 4,
   "metadata": {},
   "outputs": [
    {
     "data": {
      "text/plain": [
       "[(1459660,)]"
      ]
     },
     "execution_count": 4,
     "metadata": {},
     "output_type": "execute_result"
    }
   ],
   "source": [
    "db.conn.execute('select count(*) from comments').fetchall()"
   ]
  },
  {
   "cell_type": "code",
   "execution_count": 6,
   "metadata": {},
   "outputs": [
    {
     "data": {
      "text/plain": [
       "[(222211,)]"
      ]
     },
     "execution_count": 6,
     "metadata": {},
     "output_type": "execute_result"
    }
   ],
   "source": [
    "db.conn.execute('select count(*) from submissions').fetchall()"
   ]
  },
  {
   "cell_type": "code",
   "execution_count": 7,
   "metadata": {},
   "outputs": [
    {
     "data": {
      "text/plain": [
       "[(5816712,)]"
      ]
     },
     "execution_count": 7,
     "metadata": {},
     "output_type": "execute_result"
    }
   ],
   "source": [
    "db.conn.execute('select count(*) from sentences').fetchall()"
   ]
  },
  {
   "cell_type": "code",
   "execution_count": 15,
   "metadata": {},
   "outputs": [
    {
     "data": {
      "text/plain": [
       "[(0, 2908670), (1, 2908042)]"
      ]
     },
     "execution_count": 15,
     "metadata": {},
     "output_type": "execute_result"
    }
   ],
   "source": [
    "db.conn.execute('select src_is_subm, count(*) from sentences group by 1').fetchall()"
   ]
  },
  {
   "cell_type": "code",
   "execution_count": 22,
   "metadata": {},
   "outputs": [
    {
     "data": {
      "text/plain": [
       "[(\"i don't know what to do.\", 3465),\n",
       " (\"i don't know.\", 1931),\n",
       " ('i want to die.', 1780),\n",
       " ('i hate myself.', 1146),\n",
       " ('i need help.', 1099),\n",
       " (\"i don't know what to do anymore.\", 1090),\n",
       " ('i just want to die.', 1088),\n",
       " ('what do i do?', 977),\n",
       " ('please help me.', 872),\n",
       " ('what should i do?', 697),\n",
       " ('thanks for reading.', 678),\n",
       " ('i have no friends.', 675),\n",
       " (\"i can't do this anymore.\", 670),\n",
       " (\"i'm so tired.\", 607),\n",
       " (\"what's the point?\", 546),\n",
       " (\"i just don't know what to do.\", 524),\n",
       " ('i need help', 488),\n",
       " (\"i can't take it anymore.\", 428),\n",
       " ('i give up.', 428),\n",
       " ('i want to kill myself.', 424),\n",
       " ('what can i do?', 421),\n",
       " (\"i don't know what to do\", 405),\n",
       " ('i hate my life.', 399),\n",
       " ('i hate it.', 396),\n",
       " (\"i don't want to die.\", 395),\n",
       " ('i want to die', 363),\n",
       " ('i have nothing.', 340),\n",
       " (\"i just don't know what to do anymore.\", 332),\n",
       " ('please help me', 331),\n",
       " (\"i can't do it anymore.\", 328),\n",
       " (\"i don't know why.\", 316),\n",
       " (\"i don't want to live anymore.\", 315),\n",
       " ('i feel so alone.', 308),\n",
       " ('i love you.', 292),\n",
       " (\"but i can't.\", 291),\n",
       " ('i have no one.', 290),\n",
       " ('thank you for reading.', 285),\n",
       " ('i just want it to end.', 283),\n",
       " (\"i just can't.\", 278),\n",
       " ('i dont know what to do.', 272),\n",
       " (\"i can't do it.\", 259),\n",
       " ('thanks for listening.', 242),\n",
       " ('i don’t know what to do.', 241),\n",
       " (\"i'm just done.\", 235),\n",
       " ('i need someone to talk to.', 229),\n",
       " (\"i'm just so tired.\", 221),\n",
       " ('i want out.', 217),\n",
       " (\"i don't know what else to do.\", 213),\n",
       " (\"i'm just tired.\", 212),\n",
       " (\"i don't know anymore.\", 211)]"
      ]
     },
     "execution_count": 22,
     "metadata": {},
     "output_type": "execute_result"
    }
   ],
   "source": [
    "db.conn.execute('select lower(text), count(*) from sentences where src_is_subm=1 group by 1 order by 2 desc limit 50').fetchall()"
   ]
  },
  {
   "cell_type": "code",
   "execution_count": 23,
   "metadata": {},
   "outputs": [
    {
     "data": {
      "text/plain": [
       "[('thank you so much!', 355),\n",
       " ('username checks out', 210),\n",
       " ('i love it.', 205),\n",
       " (\"i don't know.\", 178),\n",
       " ('what do you mean?', 174),\n",
       " ('i like it.', 165),\n",
       " ('thank you :)', 163),\n",
       " ('thanks so much!', 142),\n",
       " ('happy cake day!', 132),\n",
       " ('i love it!', 125),\n",
       " ('not at all.', 121),\n",
       " ('thank you so much.', 121),\n",
       " ('thanks for sharing.', 116),\n",
       " ('thank you very much!', 113),\n",
       " ('best of luck!', 112),\n",
       " ('what are you talking about?', 111),\n",
       " ('thanks for the info.', 106),\n",
       " (\"i don't get it.\", 104),\n",
       " (\"i don't think so.\", 103),\n",
       " ('thanks for the reply.', 103),\n",
       " ('thanks a lot!', 98),\n",
       " ('thanks for the info!', 98),\n",
       " ('i agree with you.', 95),\n",
       " ('thanks for sharing!', 93),\n",
       " ('username checks out.', 92),\n",
       " ('that makes sense.', 90),\n",
       " ('( ͡° ͜ʖ ͡°)', 89),\n",
       " ('hope this helps!', 89),\n",
       " ('good to know.', 84),\n",
       " ('thank you for your submission!', 84),\n",
       " ('hope this helps.', 82),\n",
       " ('keep it up!', 81),\n",
       " ('thanks for the advice.', 79),\n",
       " ('enter pls bot', 76),\n",
       " ('i get it.', 75),\n",
       " ('yes it is.', 73),\n",
       " ('what the fuck', 72),\n",
       " ('thanks for the help!', 71),\n",
       " ('happy cake day', 70),\n",
       " ('thanks for the advice!', 70),\n",
       " ('i feel you.', 69),\n",
       " ('of course not.', 68),\n",
       " ('this is awesome!', 68),\n",
       " ('this is so sad.', 68),\n",
       " ('good for you.', 66),\n",
       " ('thanks for the reply!', 66),\n",
       " ('oh my god.', 65),\n",
       " ('this is true.', 65),\n",
       " ('what the fuck?', 65),\n",
       " ('i second this.', 64)]"
      ]
     },
     "execution_count": 23,
     "metadata": {},
     "output_type": "execute_result"
    }
   ],
   "source": [
    "qry_nobots = \"\"\"\n",
    "with bots as (\n",
    "    select author, count(*)\n",
    "    from comments \n",
    "    group by 1\n",
    "    having count(*) >=20\n",
    "        union all\n",
    "    select 'SeriouslyLucifer', -1\n",
    "        union all\n",
    "    select 'peadditer', -1\n",
    ")\n",
    "select lower(text), count(*) \n",
    "from sentences s\n",
    "join comments c\n",
    "  on s.src_id = c.id\n",
    "  and src_is_subm=0 \n",
    "left join bots b\n",
    "  on c.author = b.author\n",
    "where b.author is null\n",
    "and c.author <> '[deleted]'\n",
    "group by 1 order by 2 desc limit 50\n",
    "\"\"\"\n",
    "db.conn.execute(qry_nobots).fetchall()"
   ]
  },
  {
   "cell_type": "code",
   "execution_count": 17,
   "metadata": {},
   "outputs": [
    {
     "data": {
      "text/plain": [
       "[('SeriouslyLucifer',\n",
       "  'FortniteCompetitive',\n",
       "  \"**Unfortunately, we've had to remove your post.\",\n",
       "  190,\n",
       "  \"**Unfortunately, we've had to remove your post.** \\n\\n___\\n\\n###Posts Should Be High Quality And Encourage Discussion\\n\\nWe want /r/FortniteCompetitive to be the best source of discussion for the game online - and to do that we have to ensure that quality content isn’t drowned out by low effort or low-quality submissions.  Content must be related to Fortnite. If your post contains a suggestion for the game, it must contain Fortnite elements.\\n\\n**High Quality Guidelines:**\\n\\n- Posts about similar games are not allowed.\\n\\n- Every post should be a space for meaningful discussion. While this doesn't mean every post needs to be a discursive essay, posts that don't offer room for meaningful discussion will be removed.\\n\\n- Screenshots are removed at moderation discretion if they do not contain sufficient supporting text to encourage a discussion.\\n\\n- Videos/images taken with a phone are subject to removal.\\n\\n- Screenshots of social media posts (Twitter/Instagram/Snapchat) will be removed.\\n\\n**Post Title Rules:**\\n\\n- If your post's image or video is not related to Fortnite without the title, it will be removed. \\n\\n- Titles should not be posted using all caps or be ambiguous/clickbait.\\n\\n- When posting links from Twitter, post titles should be as accurate to the source as possible.\\n\\n\\n\\n___\\n\\n[**Here are our subreddit rules.**](https://www.reddit.com/r/FortniteCompetitive/wiki/rules) - If you have any queries about this, you can contact us via [Moderator Mail](https://www.reddit.com/message/compose?to=%2Fr%2FFortniteCompetitive).\")]"
      ]
     },
     "execution_count": 17,
     "metadata": {},
     "output_type": "execute_result"
    }
   ],
   "source": [
    "# These fucking guys.\n",
    "qry_lowfreq_bots = \"\"\"\n",
    "select author, subreddit, s.text, count(*), max(c.body)\n",
    "from comments c\n",
    "join sentences s\n",
    "  on  s.src_id = c.id\n",
    "  and s.src_is_subm = 0\n",
    "where s.text = ? or s.text = ? \n",
    "order by 1, 3, 4 desc, 2\n",
    "\"\"\"\n",
    "bad_sents = ['___\\n\\n[**Here are our subreddit rules.', \"**Unfortunately, we've had to remove your post.\"]\n",
    "\n",
    "db.conn.execute(qry_lowfreq_bots, bad_sents).fetchall()"
   ]
  },
  {
   "cell_type": "code",
   "execution_count": 19,
   "metadata": {},
   "outputs": [
    {
     "data": {
      "text/plain": [
       "[('peadditer',\n",
       "  'CoDCompetitive',\n",
       "  'Thank you for your submission!',\n",
       "  87,\n",
       "  \"Thank you for your submission! Unfortunately, your submission has been removed for the following reason(s):\\n\\nPlease use the 'Daily Discussion Thread' stickied at the top of the subreddit for your question/topic. Thanks!\\n\\n\\n\\nIf you have any questions regarding the ruleset of /r/CoDCompetitive, please refer to the [FAQ](/r/CoDCompetitive/wiki/index) or [message the moderators](/message/compose?to=%2Fr%2FCoDCompetitive). Thank you!\")]"
      ]
     },
     "execution_count": 19,
     "metadata": {},
     "output_type": "execute_result"
    }
   ],
   "source": [
    "# These fucking guys.\n",
    "qry_lowfreq_bots = \"\"\"\n",
    "select author, subreddit, s.text, count(*), max(c.body)\n",
    "from comments c\n",
    "join sentences s\n",
    "  on  s.src_id = c.id\n",
    "  and s.src_is_subm = 0\n",
    "where s.text = 'Thank you for your submission!'\n",
    "order by 1, 3, 4 desc, 2\n",
    "\"\"\"\n",
    "\n",
    "db.conn.execute(qry_lowfreq_bots).fetchall()"
   ]
  },
  {
   "cell_type": "code",
   "execution_count": 40,
   "metadata": {},
   "outputs": [
    {
     "name": "stdout",
     "output_type": "stream",
     "text": [
      "37.022057056427\n",
      "1459659 1231462\n"
     ]
    }
   ],
   "source": [
    "start = time.time()\n",
    "\n",
    "cnt_comm_tf = Counter()\n",
    "cnt_comm_df = Counter()\n",
    "with closing(db.conn.cursor()) as c:\n",
    "    gen = c.execute('select body from comments')\n",
    "    for i, (text,) in enumerate(gen):\n",
    "        d = Counter()\n",
    "        d.update(text.lower().split())\n",
    "        cnt_comm_tf.update(d)\n",
    "        cnt_comm_df.update(d.keys())\n",
    "n_comm = i\n",
    "print(time.time() - start)\n",
    "print(i, len(cnt_comm_tf))"
   ]
  },
  {
   "cell_type": "code",
   "execution_count": 41,
   "metadata": {},
   "outputs": [
    {
     "name": "stdout",
     "output_type": "stream",
     "text": [
      "25.065020322799683\n",
      "442071 389304\n"
     ]
    }
   ],
   "source": [
    "start = time.time()\n",
    "\n",
    "cnt_subm_tf = Counter()\n",
    "cnt_subm_df = Counter()\n",
    "with closing(db.conn.cursor()) as c:\n",
    "    gen = c.execute('select title from submissions union all select selftext from submissions where is_self=1')\n",
    "    for i, (text,) in enumerate(gen):\n",
    "        d = Counter()\n",
    "        d.update(text.lower().split())\n",
    "        cnt_subm_tf.update(d)\n",
    "        cnt_subm_df.update(d.keys())\n",
    "n_subm = i\n",
    "print(time.time() - start)\n",
    "print(i, len(cnt_subm_tf))"
   ]
  },
  {
   "cell_type": "code",
   "execution_count": 36,
   "metadata": {},
   "outputs": [
    {
     "data": {
      "text/plain": [
       "[('the', 1535466),\n",
       " ('to', 1032931),\n",
       " ('a', 965910),\n",
       " ('and', 859736),\n",
       " ('i', 852094),\n",
       " ('of', 644979),\n",
       " ('you', 564206),\n",
       " ('is', 537537),\n",
       " ('in', 489951),\n",
       " ('that', 488138),\n",
       " ('it', 461248),\n",
       " ('for', 392180),\n",
       " ('but', 287617),\n",
       " ('on', 276145),\n",
       " ('with', 265918),\n",
       " ('have', 261598),\n",
       " ('be', 259680),\n",
       " ('this', 255160),\n",
       " ('not', 243111),\n",
       " ('are', 237965),\n",
       " ('was', 234033),\n",
       " ('if', 225946),\n",
       " ('my', 214425),\n",
       " ('they', 212317),\n",
       " ('as', 206037),\n",
       " ('just', 201495),\n",
       " ('so', 186079),\n",
       " ('like', 185412),\n",
       " ('your', 177553),\n",
       " ('or', 176903),\n",
       " ('at', 159017),\n",
       " ('can', 146429),\n",
       " ('he', 144158),\n",
       " ('what', 135837),\n",
       " (\"it's\", 132615),\n",
       " ('do', 127583),\n",
       " ('would', 126773),\n",
       " ('get', 125770),\n",
       " ('all', 125128),\n",
       " ('about', 124421),\n",
       " ('from', 123035),\n",
       " ('an', 116234),\n",
       " ('one', 110885),\n",
       " ('more', 109193),\n",
       " ('when', 106976),\n",
       " ('we', 106957),\n",
       " ('people', 106579),\n",
       " ('me', 106100),\n",
       " ('will', 103837),\n",
       " ('out', 98474),\n",
       " (\"don't\", 97211),\n",
       " ('no', 95474),\n",
       " ('up', 95251),\n",
       " ('think', 94488),\n",
       " ('because', 93774),\n",
       " ('how', 93518),\n",
       " ('some', 91445),\n",
       " ('there', 89834),\n",
       " (\"i'm\", 89142),\n",
       " ('has', 87497),\n",
       " ('by', 84615),\n",
       " ('their', 81241),\n",
       " ('his', 77242),\n",
       " ('really', 76183),\n",
       " ('only', 75621),\n",
       " ('good', 74653),\n",
       " ('had', 74153),\n",
       " ('even', 73946),\n",
       " ('them', 73755),\n",
       " ('who', 72706),\n",
       " ('than', 71923),\n",
       " ('then', 70245),\n",
       " ('know', 69406),\n",
       " ('she', 63669),\n",
       " ('been', 63352),\n",
       " ('also', 62906),\n",
       " ('other', 62022),\n",
       " ('any', 61810),\n",
       " ('make', 61228),\n",
       " ('see', 60590),\n",
       " ('time', 59157),\n",
       " ('her', 58938),\n",
       " ('much', 58279),\n",
       " ('want', 57209),\n",
       " ('could', 56774),\n",
       " ('still', 56567),\n",
       " ('were', 56330),\n",
       " ('being', 55625),\n",
       " ('it.', 54304),\n",
       " ('-', 52978),\n",
       " ('go', 52437),\n",
       " ('which', 51378),\n",
       " ('got', 51299),\n",
       " (\"that's\", 50841),\n",
       " ('into', 50178),\n",
       " ('should', 50171),\n",
       " ('why', 50105),\n",
       " ('very', 49484),\n",
       " ('going', 48917),\n",
       " (\"you're\", 47188)]"
      ]
     },
     "execution_count": 36,
     "metadata": {},
     "output_type": "execute_result"
    }
   ],
   "source": [
    "cnt_comm_tf.most_common(100)"
   ]
  },
  {
   "cell_type": "code",
   "execution_count": 35,
   "metadata": {},
   "outputs": [
    {
     "data": {
      "text/plain": [
       "[('the', 607960),\n",
       " ('a', 500870),\n",
       " ('to', 484192),\n",
       " ('i', 446699),\n",
       " ('and', 429680),\n",
       " ('of', 355243),\n",
       " ('is', 343057),\n",
       " ('you', 316606),\n",
       " ('in', 307512),\n",
       " ('that', 304376)]"
      ]
     },
     "execution_count": 35,
     "metadata": {},
     "output_type": "execute_result"
    }
   ],
   "source": [
    "cnt_comm_df.most_common(10)"
   ]
  },
  {
   "cell_type": "code",
   "execution_count": 38,
   "metadata": {},
   "outputs": [
    {
     "data": {
      "text/plain": [
       "[('i', 2729366),\n",
       " ('to', 1555544),\n",
       " ('and', 1295577),\n",
       " ('the', 978861),\n",
       " ('my', 928848),\n",
       " ('a', 892719),\n",
       " ('of', 655955),\n",
       " ('that', 485079),\n",
       " ('in', 465111),\n",
       " ('me', 443298),\n",
       " ('it', 430352),\n",
       " (\"i'm\", 424492),\n",
       " ('but', 413693),\n",
       " ('have', 403322),\n",
       " ('for', 400996),\n",
       " ('is', 373703),\n",
       " ('just', 357488),\n",
       " ('was', 319448),\n",
       " ('with', 300913),\n",
       " ('this', 294883),\n",
       " ('so', 283325),\n",
       " (\"don't\", 267547),\n",
       " ('be', 265008),\n",
       " ('not', 235051),\n",
       " ('like', 225542),\n",
       " ('on', 216634),\n",
       " ('want', 216514),\n",
       " ('do', 192767),\n",
       " ('about', 192056),\n",
       " ('feel', 187287),\n",
       " ('all', 186784),\n",
       " ('at', 185382),\n",
       " ('know', 184379),\n",
       " ('or', 178878),\n",
       " ('if', 172133),\n",
       " (\"i've\", 171944),\n",
       " ('no', 168679),\n",
       " ('she', 168357),\n",
       " ('because', 161338),\n",
       " ('what', 158311),\n",
       " ('been', 158135),\n",
       " ('get', 154434),\n",
       " ('you', 153517),\n",
       " ('am', 153327),\n",
       " ('as', 153125),\n",
       " ('out', 146065),\n",
       " ('even', 137461),\n",
       " ('had', 135263),\n",
       " ('they', 135083),\n",
       " ('up', 133053),\n",
       " ('myself', 130957),\n",
       " ('would', 130030),\n",
       " (\"can't\", 129783),\n",
       " ('he', 129008),\n",
       " ('when', 127983),\n",
       " ('life', 127633),\n",
       " ('her', 126128),\n",
       " ('really', 120619),\n",
       " ('how', 119473),\n",
       " ('can', 119241),\n",
       " ('one', 116716),\n",
       " (\"it's\", 116358),\n",
       " ('from', 115086),\n",
       " ('will', 113923),\n",
       " ('me.', 113052),\n",
       " ('people', 109135),\n",
       " ('going', 105255),\n",
       " ('think', 102646),\n",
       " ('never', 102513),\n",
       " ('are', 101753),\n",
       " ('only', 100548),\n",
       " ('time', 93738),\n",
       " ('go', 90760),\n",
       " ('an', 88249),\n",
       " ('who', 88129),\n",
       " ('now', 87932),\n",
       " ('has', 86871),\n",
       " ('it.', 85224),\n",
       " ('more', 82814),\n",
       " ('being', 78793),\n",
       " ('we', 78550),\n",
       " ('much', 77550),\n",
       " ('some', 76694),\n",
       " ('any', 75105),\n",
       " ('there', 73161),\n",
       " ('could', 67942),\n",
       " ('things', 67450),\n",
       " ('make', 65804),\n",
       " ('help', 65752),\n",
       " ('by', 65156),\n",
       " ('years', 64701),\n",
       " ('got', 63719),\n",
       " ('them', 62484),\n",
       " ('then', 62064),\n",
       " ('see', 61581),\n",
       " ('friends', 61575),\n",
       " ('why', 60887),\n",
       " ('still', 60721),\n",
       " ('every', 60237),\n",
       " ('always', 60197)]"
      ]
     },
     "execution_count": 38,
     "metadata": {},
     "output_type": "execute_result"
    }
   ],
   "source": [
    "cnt_subm_tf.most_common(100)"
   ]
  },
  {
   "cell_type": "code",
   "execution_count": 49,
   "metadata": {},
   "outputs": [],
   "source": [
    "subm_tfidf = pd.Series(cnt_subm_tf) * np.log(n_subm / pd.Series(cnt_subm_df))"
   ]
  },
  {
   "cell_type": "code",
   "execution_count": 50,
   "metadata": {
    "collapsed": true
   },
   "outputs": [],
   "source": [
    "comm_tfidf = pd.Series(cnt_comm_tf) * np.log(n_comm / pd.Series(cnt_comm_df))"
   ]
  },
  {
   "cell_type": "code",
   "execution_count": 47,
   "metadata": {},
   "outputs": [
    {
     "data": {
      "text/plain": [
       "i          4.756062e+06\n",
       "to         2.880121e+06\n",
       "and        2.698952e+06\n",
       "the        2.081177e+06\n",
       "my         1.971378e+06\n",
       "a          1.896979e+06\n",
       "of         1.469842e+06\n",
       "that       1.203252e+06\n",
       "in         1.109475e+06\n",
       "me         1.064368e+06\n",
       "i'm        1.012210e+06\n",
       "it         1.009906e+06\n",
       "but        9.904810e+05\n",
       "have       9.753725e+05\n",
       "for        9.652693e+05\n",
       "was        9.101507e+05\n",
       "is         8.807353e+05\n",
       "just       8.443554e+05\n",
       "with       7.764649e+05\n",
       "this       7.351770e+05\n",
       "so         7.269982e+05\n",
       "don't      6.885982e+05\n",
       "be         6.829914e+05\n",
       "not        6.216999e+05\n",
       "she        6.192748e+05\n",
       "like       6.061851e+05\n",
       "on         5.846428e+05\n",
       "want       5.657265e+05\n",
       "about      5.334879e+05\n",
       "at         5.287717e+05\n",
       "               ...     \n",
       "only       3.174303e+05\n",
       "time       3.031340e+05\n",
       "we         3.010988e+05\n",
       "who        2.935400e+05\n",
       "go         2.917812e+05\n",
       "an         2.891671e+05\n",
       "has        2.876623e+05\n",
       "now        2.834155e+05\n",
       "more       2.800192e+05\n",
       "it.        2.755803e+05\n",
       "being      2.663135e+05\n",
       "some       2.609229e+05\n",
       "much       2.592856e+05\n",
       "any        2.524471e+05\n",
       "there      2.516481e+05\n",
       "could      2.390758e+05\n",
       "things     2.382472e+05\n",
       "got        2.325495e+05\n",
       "by         2.295048e+05\n",
       "make       2.286190e+05\n",
       "them       2.284419e+05\n",
       "years      2.269943e+05\n",
       "then       2.254570e+05\n",
       "help       2.244121e+05\n",
       "him        2.233346e+05\n",
       "fucking    2.201597e+05\n",
       "always     2.199849e+05\n",
       "friends    2.197777e+05\n",
       "still      2.187806e+05\n",
       "see        2.172561e+05\n",
       "Length: 100, dtype: float64"
      ]
     },
     "execution_count": 47,
     "metadata": {},
     "output_type": "execute_result"
    }
   ],
   "source": [
    "comm_tfidf.sort_values(ascending=False)[:100]"
   ]
  },
  {
   "cell_type": "code",
   "execution_count": 52,
   "metadata": {},
   "outputs": [
    {
     "data": {
      "text/plain": [
       "[deleted]             182.727158\n",
       "suicidewatch          120.278985\n",
       "pm]                   110.119156\n",
       "r/suicidewatch         92.942063\n",
       "celexa                 73.914837\n",
       "self-harming           70.294110\n",
       "/r/suicidewatch.       68.988035\n",
       "suicidal...            68.408304\n",
       "worthlessness.         67.388547\n",
       "stranger:              66.233942\n",
       "hotline?               65.412474\n",
       "harming,               65.341704\n",
       "suicidal.              63.246380\n",
       "loner,                 61.877547\n",
       "depressed/suicidal     58.166769\n",
       "suicidal?              57.901848\n",
       "ged,                   57.787929\n",
       "hotline,               57.323919\n",
       "painlessly.            57.192177\n",
       "suicide..              57.120605\n",
       "r/depression           56.082649\n",
       "feeling:               55.260702\n",
       "**edit:                54.492214\n",
       "ideation               51.476674\n",
       "depressive,            51.312489\n",
       "hospitalization,       49.783331\n",
       "offing                 49.641127\n",
       "everynight             49.176217\n",
       "/r/depression          49.107322\n",
       "self-hatred.           48.569103\n",
       "                         ...    \n",
       "throwaway.             32.513306\n",
       "ex-fiance              32.410622\n",
       "tired...               32.154466\n",
       "cripplingly            32.011365\n",
       "self-harm.             31.997118\n",
       "skyping                31.512065\n",
       "emptiness.             31.107128\n",
       "overdosing.            30.813763\n",
       "lonelier               30.808334\n",
       "suicidality            30.729429\n",
       "dreamless              30.439566\n",
       "therapists,            30.424039\n",
       "*edit:                 30.366787\n",
       "antidepressant,        30.295573\n",
       "worthlessness          30.143119\n",
       "talentless,            29.864747\n",
       "5150                   29.851723\n",
       "thirteen,              29.720685\n",
       "self-harming.          29.720685\n",
       "sucide                 29.235642\n",
       "hospitalizations,      29.144265\n",
       "lexapro.               29.144265\n",
       "contemplating.         29.144265\n",
       "depressed;             29.144265\n",
       "(depression,           29.144265\n",
       "hotline.               28.830616\n",
       "hospitalization.       28.644979\n",
       "thoughts;              28.637547\n",
       "\"suicide               28.478245\n",
       "noose.                 28.151831\n",
       "Length: 100, dtype: float64"
      ]
     },
     "execution_count": 52,
     "metadata": {},
     "output_type": "execute_result"
    }
   ],
   "source": [
    "ratio_test = (subm_tfidf / comm_tfidf).sort_values(ascending=False)\n",
    "\n",
    "ratio_test[:100]"
   ]
  },
  {
   "cell_type": "code",
   "execution_count": 54,
   "metadata": {},
   "outputs": [
    {
     "data": {
      "text/plain": [
       "rgb          0.005441\n",
       "thicc        0.005366\n",
       "mech         0.005323\n",
       "🙄            0.005317\n",
       "pvp          0.005316\n",
       "😅            0.005307\n",
       "leftists     0.005300\n",
       "emperor      0.005297\n",
       "vai          0.005278\n",
       "ja           0.005234\n",
       "av           0.005108\n",
       "alliance     0.005092\n",
       "devs         0.005076\n",
       "faction      0.005056\n",
       "melee        0.005056\n",
       "ports        0.005014\n",
       "za           0.004987\n",
       "rework       0.004977\n",
       "democrats    0.004951\n",
       "você         0.004932\n",
       "elo          0.004837\n",
       "nu           0.004813\n",
       "hier         0.004805\n",
       "nato         0.004754\n",
       "paladin      0.004745\n",
       "ele          0.004704\n",
       "factions     0.004653\n",
       "warranty     0.004648\n",
       "alle         0.004598\n",
       "8gb          0.004582\n",
       "               ...   \n",
       "f2p          0.003228\n",
       "gtx          0.003110\n",
       "så           0.003082\n",
       "dann         0.003080\n",
       "&gt;if       0.003063\n",
       "alexa        0.003047\n",
       "raids        0.002969\n",
       "sie          0.002918\n",
       "bei          0.002913\n",
       "&gt;the      0.002739\n",
       "wie          0.002718\n",
       "för          0.002652\n",
       "goku         0.002641\n",
       "mai          0.002542\n",
       "che          0.002509\n",
       "druid        0.002437\n",
       "är           0.002403\n",
       "wenn         0.002322\n",
       "gunn         0.002199\n",
       "ça           0.002046\n",
       "der          0.002024\n",
       "footer       0.001972\n",
       "aber         0.001933\n",
       "gpu          0.001933\n",
       "😍            0.001919\n",
       "ein          0.001884\n",
       "dps          0.001549\n",
       "zu           0.001502\n",
       "*snap*       0.001274\n",
       "nicht        0.001105\n",
       "Length: 100, dtype: float64"
      ]
     },
     "execution_count": 54,
     "metadata": {},
     "output_type": "execute_result"
    }
   ],
   "source": [
    "ratio_test[ratio_test.notnull()][-100:]"
   ]
  },
  {
   "cell_type": "code",
   "execution_count": 57,
   "metadata": {},
   "outputs": [
    {
     "name": "stdout",
     "output_type": "stream",
     "text": [
      "389304 1231462 1437628\n",
      "1048324 206166\n"
     ]
    }
   ],
   "source": [
    "vocab = set(cnt_subm_tf.keys())\n",
    "vocab.update(cnt_comm_tf.keys())\n",
    "print(len(cnt_subm_tf), len(cnt_comm_tf), len(vocab))\n",
    "print(len(vocab)-len(cnt_subm_tf), len(vocab)-len(cnt_comm_tf))"
   ]
  },
  {
   "cell_type": "code",
   "execution_count": 64,
   "metadata": {
    "collapsed": true
   },
   "outputs": [],
   "source": [
    "# Super duper naive bayes!\n",
    "subm_tf = copy.deepcopy(cnt_subm_tf)\n",
    "subm_df = copy.deepcopy(cnt_subm_df)\n",
    "comm_tf = copy.deepcopy(cnt_comm_tf)\n",
    "comm_df = copy.deepcopy(cnt_comm_df)\n",
    "\n",
    "subm_tf.update(vocab)\n",
    "subm_df.update(vocab)\n",
    "comm_tf.update(vocab)\n",
    "comm_df.update(vocab)\n",
    "\n",
    "subm_tf = pd.Series(subm_tf)\n",
    "subm_df = pd.Series(subm_df)\n",
    "comm_tf = pd.Series(comm_tf)\n",
    "comm_df = pd.Series(comm_df)"
   ]
  },
  {
   "cell_type": "code",
   "execution_count": 96,
   "metadata": {},
   "outputs": [],
   "source": [
    "subm_df_logprob = np.log(subm_df) - np.log(subm_df.sum())\n",
    "subm_tf_logprob = np.log(subm_tf) - np.log(subm_tf.sum())\n",
    "comm_df_logprob = np.log(comm_df) - np.log(comm_df.sum())\n",
    "comm_tf_logprob = np.log(comm_tf) - np.log(comm_tf.sum())"
   ]
  },
  {
   "cell_type": "code",
   "execution_count": 98,
   "metadata": {},
   "outputs": [],
   "source": [
    "def query(text, loglike, logprior=np.log(.5), V=None):\n",
    "    if V is None:\n",
    "        V = Counter(loglike.index)\n",
    "    X =  Counter(text.lower().split())\n",
    "    X.update(V) # if V is series, use .to_dict()\n",
    "    X = pd.Series(X)\n",
    "    return logprior + loglike.dot(X)\n",
    "        "
   ]
  },
  {
   "cell_type": "code",
   "execution_count": 99,
   "metadata": {},
   "outputs": [
    {
     "data": {
      "text/plain": [
       "(-24848622.913981337, -23878461.093272228)"
      ]
     },
     "execution_count": 99,
     "metadata": {},
     "output_type": "execute_result"
    }
   ],
   "source": [
    "query(\"i want to kill myself\", subm_tf_logprob, np.log(n_subm/(n_comm+n_subm))), query(\"i want to kill myself\", comm_tf_logprob, np.log(n_comm/(n_comm+n_subm))) "
   ]
  },
  {
   "cell_type": "code",
   "execution_count": 100,
   "metadata": {},
   "outputs": [
    {
     "data": {
      "text/plain": [
       "(-24848622.148079742, -23878461.521858256)"
      ]
     },
     "execution_count": 100,
     "metadata": {},
     "output_type": "execute_result"
    }
   ],
   "source": [
    "query(\"i want to kill myself\", subm_tf_logprob), query(\"i want to kill myself\", comm_tf_logprob) "
   ]
  },
  {
   "cell_type": "code",
   "execution_count": 102,
   "metadata": {},
   "outputs": [
    {
     "data": {
      "text/plain": [
       "(-24075007.102122888, -23598643.151869409)"
      ]
     },
     "execution_count": 102,
     "metadata": {},
     "output_type": "execute_result"
    }
   ],
   "source": [
    "query(\"i want to kill myself\", subm_df_logprob), query(\"i want to kill myself\", comm_df_logprob) "
   ]
  },
  {
   "cell_type": "code",
   "execution_count": 101,
   "metadata": {},
   "outputs": [
    {
     "data": {
      "text/plain": [
       "(-24848597.404012207, -23878429.597757116)"
      ]
     },
     "execution_count": 101,
     "metadata": {},
     "output_type": "execute_result"
    }
   ],
   "source": [
    "subm_tf_logprob.sum(), comm_tf_logprob.sum()"
   ]
  },
  {
   "cell_type": "code",
   "execution_count": 103,
   "metadata": {},
   "outputs": [
    {
     "data": {
      "text/plain": [
       "(-24074979.335168492, -23598610.521870237)"
      ]
     },
     "execution_count": 103,
     "metadata": {},
     "output_type": "execute_result"
    }
   ],
   "source": [
    "subm_df_logprob.sum(), comm_df_logprob.sum()"
   ]
  },
  {
   "cell_type": "code",
   "execution_count": null,
   "metadata": {
    "collapsed": true
   },
   "outputs": [],
   "source": []
  }
 ],
 "metadata": {
  "kernelspec": {
   "display_name": "Python 3",
   "language": "python",
   "name": "python3"
  },
  "language_info": {
   "codemirror_mode": {
    "name": "ipython",
    "version": 3
   },
   "file_extension": ".py",
   "mimetype": "text/x-python",
   "name": "python",
   "nbconvert_exporter": "python",
   "pygments_lexer": "ipython3",
   "version": "3.6.3"
  }
 },
 "nbformat": 4,
 "nbformat_minor": 2
}
